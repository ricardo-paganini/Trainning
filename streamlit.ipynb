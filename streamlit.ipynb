{
 "cells": [
  {
   "cell_type": "markdown",
   "id": "e9a86c15-b850-4451-a91c-2209040f7cb4",
   "metadata": {},
   "source": [
    "![Image](images/streamlit_image.jpg) "
   ]
  },
  {
   "cell_type": "markdown",
   "id": "82e99ead-3153-402b-8dd9-a0c690cfa8b5",
   "metadata": {},
   "source": [
    "# 1.0 - Instalação\n",
    "\n",
    "`!pip install streamlit`"
   ]
  },
  {
   "cell_type": "markdown",
   "id": "c5cc5850-a2e3-4003-8e9c-d51aec0d3d9c",
   "metadata": {},
   "source": [
    "# 2.0 - Verificação da instalação e versão \n",
    "\n",
    "`!streamlit --version` "
   ]
  },
  {
   "cell_type": "markdown",
   "id": "a2941fbf-3809-4100-addf-aa8a26bc19ae",
   "metadata": {},
   "source": [
    "# 3.0 - Importação do pacote"
   ]
  },
  {
   "cell_type": "code",
   "execution_count": 6,
   "id": "28cefbb1-5527-45d3-aeb3-9efa1cbec225",
   "metadata": {},
   "outputs": [],
   "source": [
    "import streamlit as st"
   ]
  },
  {
   "cell_type": "markdown",
   "id": "84abef0b-d91f-4b29-a0ce-1a8b25c5df8c",
   "metadata": {},
   "source": [
    "# 4.0 - Primeiro APP - \" Olá Mundo ! \""
   ]
  },
  {
   "cell_type": "code",
   "execution_count": 8,
   "id": "6b6bf188-0b47-4394-9940-e2c62c816616",
   "metadata": {},
   "outputs": [
    {
     "ename": "SyntaxError",
     "evalue": "invalid syntax (701506117.py, line 7)",
     "output_type": "error",
     "traceback": [
      "\u001b[0;36m  Cell \u001b[0;32mIn[8], line 7\u001b[0;36m\u001b[0m\n\u001b[0;31m    streamlit run\u001b[0m\n\u001b[0m              ^\u001b[0m\n\u001b[0;31mSyntaxError\u001b[0m\u001b[0;31m:\u001b[0m invalid syntax\n"
     ]
    }
   ],
   "source": [
    "st.title('Meu primeiro App')\n",
    "st.write('Bem-vindo ao meu primeiro App Streamlit !')\n",
    "\n",
    "if st.button('Diga Olá'):\n",
    "    st.write('Olá Mundo !')\n",
    "\n",
    "!stremlit run"
   ]
  },
  {
   "cell_type": "code",
   "execution_count": null,
   "id": "9d88e360-7baf-479f-84f8-fe45eb9d3daf",
   "metadata": {},
   "outputs": [],
   "source": []
  }
 ],
 "metadata": {
  "kernelspec": {
   "display_name": "Python 3 (ipykernel)",
   "language": "python",
   "name": "python3"
  },
  "language_info": {
   "codemirror_mode": {
    "name": "ipython",
    "version": 3
   },
   "file_extension": ".py",
   "mimetype": "text/x-python",
   "name": "python",
   "nbconvert_exporter": "python",
   "pygments_lexer": "ipython3",
   "version": "3.13.1"
  }
 },
 "nbformat": 4,
 "nbformat_minor": 5
}
