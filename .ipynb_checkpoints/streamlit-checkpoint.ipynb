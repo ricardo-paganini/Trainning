{
 "cells": [
  {
   "cell_type": "markdown",
   "id": "e9a86c15-b850-4451-a91c-2209040f7cb4",
   "metadata": {},
   "source": [
    "![Image](images/streamlit_image.jpg) "
   ]
  },
  {
   "cell_type": "markdown",
   "id": "82e99ead-3153-402b-8dd9-a0c690cfa8b5",
   "metadata": {},
   "source": [
    "# 1.0 - Instalação\n",
    "\n",
    "`!pip install streamlit`"
   ]
  },
  {
   "cell_type": "markdown",
   "id": "c5cc5850-a2e3-4003-8e9c-d51aec0d3d9c",
   "metadata": {},
   "source": [
    "# 2.0 - Verificação da instalação e versão \n",
    "\n",
    "`!streamlit --version` "
   ]
  },
  {
   "cell_type": "code",
   "execution_count": null,
   "id": "6a505107-99bf-47b7-a60f-166416984006",
   "metadata": {},
   "outputs": [],
   "source": [
    ".ipynb_checkpoints\n"
   ]
  }
 ],
 "metadata": {
  "kernelspec": {
   "display_name": "Python 3 (ipykernel)",
   "language": "python",
   "name": "python3"
  },
  "language_info": {
   "codemirror_mode": {
    "name": "ipython",
    "version": 3
   },
   "file_extension": ".py",
   "mimetype": "text/x-python",
   "name": "python",
   "nbconvert_exporter": "python",
   "pygments_lexer": "ipython3",
   "version": "3.13.1"
  }
 },
 "nbformat": 4,
 "nbformat_minor": 5
}
